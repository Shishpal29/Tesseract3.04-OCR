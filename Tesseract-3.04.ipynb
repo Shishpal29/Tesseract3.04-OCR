{
 "cells": [
  {
   "cell_type": "code",
   "execution_count": null,
   "metadata": {},
   "outputs": [],
   "source": [
    "!mkdir number_plate"
   ]
  },
  {
   "cell_type": "code",
   "execution_count": null,
   "metadata": {},
   "outputs": [],
   "source": [
    "!export root_dir=pwd\n",
    "!echo \"$root_dir\""
   ]
  },
  {
   "cell_type": "code",
   "execution_count": null,
   "metadata": {},
   "outputs": [],
   "source": [
    "import os\n",
    "os.chdir(\"./number_plate\")\n"
   ]
  },
  {
   "cell_type": "code",
   "execution_count": null,
   "metadata": {},
   "outputs": [],
   "source": [
    "pwd"
   ]
  },
  {
   "cell_type": "markdown",
   "metadata": {
    "collapsed": true
   },
   "source": [
    "#                         Training Tesseract 3.04\n",
    "- Tesseract is an optical character recognition engine for various operating systems.\n",
    "- Tesseract 3.x is based on traditional computer vision algorithms.\n",
    "- Version 4 of Tesseract also has the legacy OCR engine of Tesseract 3"
   ]
  },
  {
   "cell_type": "markdown",
   "metadata": {
    "collapsed": true
   },
   "source": [
    "# Requirements for text input files\n",
    "Text input files need to meet these criteria:\n",
    "- ASCII or UTF-8 encoding without BOM\n",
    "- Unix end-of-line marker ('\\n')\n",
    "- The last character must be an end of line marker ('\\n')."
   ]
  },
  {
   "cell_type": "markdown",
   "metadata": {},
   "source": [
    "# Python Code for Generating text file\n",
    "\n",
    "- Run below python code to generate training_text.txt file.\n"
   ]
  },
  {
   "cell_type": "code",
   "execution_count": null,
   "metadata": {},
   "outputs": [],
   "source": [
    "#indian number plate general format generator\n",
    "import random\n",
    "import string\n",
    "random.seed(0)\n",
    "state_code = ['AP','AR','AS','BR','CG','GA','GJ','HR','HP','JK','JH','KA','KL',\n",
    "\t      'MP','MH','MN','ML','MZ','NL','OD','PB','RJ','SK','TN','TS','TR','UK',\n",
    "\t      'UP','WB','AN','CH','DN','DD','DL','LD','PY']\n",
    "punc=['-','.',' ']\n",
    "def randomStringL(stringLength):\n",
    "    return ''.join(random.choice(state_code))\n",
    "def randomStringL2(stringLength):\n",
    "    letters = string.uppercase\n",
    "    return ''.join(random.choice(letters) for i in range(2))\n",
    "def randomStringD(stringLength):\n",
    "    letters = string.digits\n",
    "    return ''.join(random.choice(letters) for i in range(stringLength))\n",
    "def randomBet():\n",
    "    return ''.join(random.choice(punc))\n",
    "output= ''\n",
    "for i in range(1000):\n",
    "  rnd = randomBet()\n",
    "  output = output + (randomStringL(2)+rnd+randomStringD(2)+rnd+randomStringL2(2)+rnd+randomStringD(4) )+'\\n'\n",
    "\n",
    "file = open(\"training_text.txt\",\"w\")\n",
    "file.write(output)\n",
    "file.close()"
   ]
  },
  {
   "cell_type": "markdown",
   "metadata": {},
   "source": [
    "# Training Procedure\n",
    "\n",
    "### 1. Generate Training Images and Box Files\n",
    "##### 1.1 Automated Method\n",
    "- Run the following command for each font in turn to create a matching tif/box file pair. \n",
    "- input:  UTF-8 text file (training_text.txt) containing our training text.\n",
    " ```sh\n",
    " $ text2image --text=training_text.txt --outputbase=[lang].[fontname].exp0 --font='Font Name' --fonts_dir=/path/to/our/fonts\n",
    " ```\n",
    " - copy fonts from \"/usr/share/fonts\" directory to our data directory or set path accordingly.\n",
    "- Three files (eng.FreeSerifBold.exp0.box, eng.FreeSerifBold.exp0.tif, lang.unicharset) created in this step."
   ]
  },
  {
   "cell_type": "code",
   "execution_count": null,
   "metadata": {},
   "outputs": [],
   "source": [
    "!text2image --text=training_text.txt --outputbase=eng.FreeSerifBold.exp0 --font='FreeSerif Bold' --fonts_dir=../data/fonts "
   ]
  },
  {
   "cell_type": "markdown",
   "metadata": {},
   "source": [
    "### 2. Run Tesseract for Training\n",
    "For each of our training image, boxfile pairs, run Tesseract in training mode:\n",
    "```sh\n",
    "$ tesseract [lang].[fontname].exp[num].tif [lang].[fontname].exp[num] box.train\n",
    "```\n",
    "- The output of this step is tr file which contains the features of each character of the training page."
   ]
  },
  {
   "cell_type": "code",
   "execution_count": null,
   "metadata": {},
   "outputs": [],
   "source": [
    "!tesseract eng.FreeSerifBold.exp0.tif eng.FreeSerifBold.exp0 box.train"
   ]
  },
  {
   "cell_type": "markdown",
   "metadata": {},
   "source": [
    "### 3. Generate the unicharset file\n",
    "- Tesseract’s unicharset file contains information on each symbol the Tesseract OCR engine is trained to recognize.\n",
    "- Currently, generating the unicharset file is done in two steps using these commands: unicharset_extractor and set_unicharset_properties.\n",
    "\n",
    "##### 3.1 unicharset_extractor\n",
    "Tesseract needs to know the set of possible characters it can output. To generate the unicharset data file, use the unicharset_extractor program on the box files generated above:\n",
    "```sh\n",
    "$ unicharset_extractor lang.fontname.exp0.box\n",
    "```\n",
    "- unicharset file will be created."
   ]
  },
  {
   "cell_type": "code",
   "execution_count": null,
   "metadata": {},
   "outputs": [],
   "source": [
    "!unicharset_extractor eng.FreeSerifBold.exp0.box"
   ]
  },
  {
   "cell_type": "markdown",
   "metadata": {},
   "source": [
    "##### 3.2 set_unicharset_properties\n",
    "- This step allow the addition of extra properties in the unicharset.\n",
    "```sh\n",
    "$ set_unicharset_properties -U input_unicharset -O output_unicharset --script_dir=langdata\n",
    "```\n",
    "- output_unicharset file will be created."
   ]
  },
  {
   "cell_type": "code",
   "execution_count": null,
   "metadata": {},
   "outputs": [],
   "source": [
    "!set_unicharset_properties --script_dir=../data/langdata -U unicharset -O output_unicharset"
   ]
  },
  {
   "cell_type": "markdown",
   "metadata": {},
   "source": [
    "For futher details regarding Unicharset — Incomplete properties [click here](https://github.com/tesseract-ocr/tesseract/issues/318)"
   ]
  },
  {
   "cell_type": "markdown",
   "metadata": {},
   "source": [
    "### 4. The font_properties file\n",
    "- Create a font_properties text file. The purpose of this file is to provide font style information that will appear in the output when the font is recognized.\n",
    "- Each line of the font_properties file is formatted as follows: fontname italic bold fixed serif fraktur\n",
    "- Use default [font_properties](https://raw.githubusercontent.com/tesseract-ocr/langdata/master/font_properties) file"
   ]
  },
  {
   "cell_type": "markdown",
   "metadata": {},
   "source": [
    "### 5. Clustering\n",
    "- When the character features of all the training pages have been extracted, we need to cluster them to create the prototypes.\n",
    "- The character shape features can be clustered using the shapeclustering, mftraining and cntraining programs:\n",
    "##### 5.1mftraining\n",
    "- mftraining will output two other data files: inttemp (the shape prototypes) and pffmtable (the number of expected features for each character).\n",
    "- mftraining will produce a shapetable file because we didn't run shapeclustering.\n",
    "```sh\n",
    "$ mftraining -F font_properties -U unicharset -O lang.unicharset lang.fontname.exp0.tr\n",
    "```"
   ]
  },
  {
   "cell_type": "code",
   "execution_count": null,
   "metadata": {},
   "outputs": [],
   "source": [
    "!mftraining -F ../data/font_properties -U unicharset -O eng.unicharset eng.FreeSerifBold.exp0.tr"
   ]
  },
  {
   "cell_type": "markdown",
   "metadata": {},
   "source": [
    "##### 5.2 cntraining\n",
    "- This will output the normproto data file (the character normalization sensitivity prototypes).\n",
    "```sh \n",
    "$ cntraining lang.fontname.exp0.tr\n",
    "```"
   ]
  },
  {
   "cell_type": "code",
   "execution_count": null,
   "metadata": {},
   "outputs": [],
   "source": [
    "!cntraining eng.FreeSerifBold.exp0.tr"
   ]
  },
  {
   "cell_type": "code",
   "execution_count": null,
   "metadata": {},
   "outputs": [],
   "source": [
    "!mv inttemp eng.inttemp\n",
    "!mv pffmtable eng.pffmtable\n",
    "!mv shapetable eng.shapetable\n",
    "!rm eng.unicharset\n",
    "!mv output_unicharset eng.unicharset\n",
    "!mv normproto eng.normproto"
   ]
  },
  {
   "cell_type": "markdown",
   "metadata": {},
   "source": [
    "### 6. Putting it all together\n",
    "- now collect together all the files (shapetable, normproto, inttemp, pffmtable, unicharset) and rename them with a lang. prefix (for example eng.) \n",
    "- run combine_tessdata on them as follows:\n",
    "```sh\n",
    "$ combine_tessdata lang.\n",
    "```\n"
   ]
  },
  {
   "cell_type": "code",
   "execution_count": null,
   "metadata": {},
   "outputs": [],
   "source": [
    "!combine_tessdata eng."
   ]
  },
  {
   "cell_type": "code",
   "execution_count": null,
   "metadata": {},
   "outputs": [],
   "source": [
    "!mkdir ../Trained_Data"
   ]
  },
  {
   "cell_type": "code",
   "execution_count": null,
   "metadata": {},
   "outputs": [],
   "source": [
    "!mv eng.traineddata ../Trained_Data"
   ]
  },
  {
   "cell_type": "code",
   "execution_count": null,
   "metadata": {},
   "outputs": [],
   "source": [
    "%cd ..\n",
    "!rm -rf number_plate"
   ]
  },
  {
   "cell_type": "markdown",
   "metadata": {},
   "source": [
    "- The resulting eng.traineddata goes in our Trained_Data directory. \n",
    "- Tesseract can now recognize text in our language (in theory) with the following:\n",
    "```sh\n",
    "$ tesseract image.tif output -l lang\n",
    "```"
   ]
  },
  {
   "cell_type": "code",
   "execution_count": null,
   "metadata": {},
   "outputs": [],
   "source": [
    "!mkdir output"
   ]
  },
  {
   "cell_type": "code",
   "execution_count": null,
   "metadata": {},
   "outputs": [],
   "source": [
    "import os\n",
    "os.environ['TESSDATA_PREFIX'] = \"./Trained_Data\""
   ]
  },
  {
   "cell_type": "code",
   "execution_count": null,
   "metadata": {},
   "outputs": [],
   "source": [
    "!tesseract images/image4.png output/output_0 -l eng"
   ]
  },
  {
   "cell_type": "code",
   "execution_count": null,
   "metadata": {},
   "outputs": [],
   "source": [
    "!tesseract images/image3.1.png output/output_1 -l eng"
   ]
  },
  {
   "cell_type": "code",
   "execution_count": null,
   "metadata": {},
   "outputs": [],
   "source": [
    "!tesseract images/image-4.png output/output_2 -l eng"
   ]
  },
  {
   "cell_type": "code",
   "execution_count": null,
   "metadata": {},
   "outputs": [],
   "source": []
  }
 ],
 "metadata": {
  "kernelspec": {
   "display_name": "Python 2",
   "language": "python",
   "name": "python2"
  },
  "language_info": {
   "codemirror_mode": {
    "name": "ipython",
    "version": 2
   },
   "file_extension": ".py",
   "mimetype": "text/x-python",
   "name": "python",
   "nbconvert_exporter": "python",
   "pygments_lexer": "ipython2",
   "version": "2.7.15rc1"
  }
 },
 "nbformat": 4,
 "nbformat_minor": 2
}
